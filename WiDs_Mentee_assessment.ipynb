{
 "cells": [
  {
   "cell_type": "code",
   "execution_count": 1,
   "id": "2954cb4a",
   "metadata": {},
   "outputs": [
    {
     "name": "stdout",
     "output_type": "stream",
     "text": [
      "   PassengerId  Survived  Pclass  \\\n",
      "0            1         0       3   \n",
      "1            2         1       1   \n",
      "2            3         1       3   \n",
      "3            4         1       1   \n",
      "4            5         0       3   \n",
      "\n",
      "                                                Name     Sex   Age  SibSp  \\\n",
      "0                            Braund, Mr. Owen Harris    male  22.0      1   \n",
      "1  Cumings, Mrs. John Bradley (Florence Briggs Th...  female  38.0      1   \n",
      "2                             Heikkinen, Miss. Laina  female  26.0      0   \n",
      "3       Futrelle, Mrs. Jacques Heath (Lily May Peel)  female  35.0      1   \n",
      "4                           Allen, Mr. William Henry    male  35.0      0   \n",
      "\n",
      "   Parch            Ticket     Fare Cabin Embarked  \n",
      "0      0         A/5 21171   7.2500   NaN        S  \n",
      "1      0          PC 17599  71.2833   C85        C  \n",
      "2      0  STON/O2. 3101282   7.9250   NaN        S  \n",
      "3      0            113803  53.1000  C123        S  \n",
      "4      0            373450   8.0500   NaN        S  \n"
     ]
    }
   ],
   "source": [
    "# Import necessary libraries\n",
    "import pandas as pd\n",
    "import numpy as np\n",
    "from sklearn.preprocessing import StandardScaler\n",
    "from sklearn.ensemble import RandomForestClassifier\n",
    "from sklearn.metrics import accuracy_score, classification_report\n",
    "\n",
    "# Load data\n",
    "train_data = pd.read_csv('Datasets/train.csv')\n",
    "test_data = pd.read_csv('Datasets/test.csv')\n",
    "\n",
    "# Print the first 5 rows of the training data\n",
    "print(train_data.head())"
   ]
  },
  {
   "cell_type": "code",
   "execution_count": 2,
   "id": "8e8b38af",
   "metadata": {},
   "outputs": [
    {
     "name": "stdout",
     "output_type": "stream",
     "text": [
      "['PassengerId', 'Survived', 'Pclass', 'Name', 'Sex', 'Age', 'SibSp', 'Parch', 'Ticket', 'Fare', 'Cabin', 'Embarked']\n",
      "0    549\n",
      "1    342\n",
      "Name: Survived, dtype: int64\n",
      "male      577\n",
      "female    314\n",
      "Name: Sex, dtype: int64\n"
     ]
    }
   ],
   "source": [
    "# Get a list of all the features in the training data\n",
    "features = train_data.columns.tolist()\n",
    "print(features)\n",
    "\n",
    "# Print the number of passengers who survived and died\n",
    "print(train_data['Survived'].value_counts())\n",
    "print(train_data['Sex'].value_counts())"
   ]
  },
  {
   "cell_type": "code",
   "execution_count": 3,
   "id": "a77762f0",
   "metadata": {},
   "outputs": [
    {
     "name": "stdout",
     "output_type": "stream",
     "text": [
      "PassengerId      0\n",
      "Survived         0\n",
      "Pclass           0\n",
      "Name             0\n",
      "Sex              0\n",
      "Age              0\n",
      "SibSp            0\n",
      "Parch            0\n",
      "Ticket           0\n",
      "Fare             0\n",
      "Cabin          687\n",
      "Embarked         2\n",
      "dtype: int64\n",
      "PassengerId      0\n",
      "Pclass           0\n",
      "Name             0\n",
      "Sex              0\n",
      "Age              0\n",
      "SibSp            0\n",
      "Parch            0\n",
      "Ticket           0\n",
      "Fare             0\n",
      "Cabin          327\n",
      "Embarked         0\n",
      "dtype: int64\n"
     ]
    }
   ],
   "source": [
    "# Replace missing values in the 'Age' feature with the mean age\n",
    "train_data['Age'] = train_data['Age'].fillna(train_data['Age'].mean())\n",
    "train_data['Fare'] = train_data['Fare'].fillna(train_data['Fare'].mean())\n",
    "test_data['Age'] = test_data['Age'].fillna(test_data['Age'].mean())\n",
    "test_data['Fare'] = test_data['Fare'].fillna(test_data['Fare'].mean())\n",
    "\n",
    "print(train_data.isna().sum())\n",
    "print(test_data.isna().sum())\n",
    "\n",
    "# Encode categorical variables\n",
    "sex_mapping = {'male': 0, 'female': 1}\n",
    "train_data['Sex'] = train_data['Sex'].map(sex_mapping)\n",
    "test_data['Sex'] = test_data['Sex'].map(sex_mapping)\n",
    "\n",
    "\n",
    "# Select features\n",
    "features = ['Pclass', 'Sex', 'Age', 'Fare']\n",
    "target = 'Survived'\n",
    "X_train = train_data[features]\n",
    "y_train = train_data[target]\n",
    "#X_test = test_data[features]\n",
    "#y_test = test_data[target]\n"
   ]
  },
  {
   "cell_type": "code",
   "execution_count": 4,
   "id": "dae452db",
   "metadata": {},
   "outputs": [],
   "source": [
    "#import train_test_split\n",
    "from sklearn.model_selection import train_test_split\n",
    "\n",
    "# Split data into training and validation sets\n",
    "X_train, X_val, y_train, y_val = train_test_split(X_train, y_train, test_size=0.2, random_state=42)\n",
    "\n",
    "# Scale numerical features\n",
    "scaler = StandardScaler()\n",
    "X_train = scaler.fit_transform(X_train)\n",
    "X_val = scaler.transform(X_val)\n",
    "#X_test = scaler.transform(X_test)\n",
    "\n"
   ]
  },
  {
   "cell_type": "code",
   "execution_count": 5,
   "id": "7119826f",
   "metadata": {},
   "outputs": [
    {
     "name": "stdout",
     "output_type": "stream",
     "text": [
      "Accuracy: 0.7877094972067039\n",
      "              precision    recall  f1-score   support\n",
      "\n",
      "           0       0.80      0.85      0.82       105\n",
      "           1       0.76      0.70      0.73        74\n",
      "\n",
      "    accuracy                           0.79       179\n",
      "   macro avg       0.78      0.78      0.78       179\n",
      "weighted avg       0.79      0.79      0.79       179\n",
      "\n"
     ]
    }
   ],
   "source": [
    "# Train the model\n",
    "model = RandomForestClassifier(n_estimators=100, random_state=42)\n",
    "model.fit(X_train, y_train)\n",
    "\n",
    "# Make evaluations on the test set\n",
    "y_predictions = model.predict(X_val)\n",
    "accuracy = accuracy_score(y_val, y_predictions)\n",
    "\n",
    "print(f'Accuracy: {accuracy}')\n",
    "print(classification_report(y_val, y_predictions))\n"
   ]
  },
  {
   "cell_type": "code",
   "execution_count": 6,
   "id": "51c971aa",
   "metadata": {},
   "outputs": [],
   "source": [
    "# Make prediction on the test set\n",
    "X_test = scaler.transform(test_data[features])\n",
    "test_predictions = model.predict(X_test)"
   ]
  },
  {
   "cell_type": "markdown",
   "id": "cd207a66",
   "metadata": {},
   "source": [
    "# To Summarize My Model's Performance Above\n",
    "\n",
    "I trained a Random Forest Classifier model and it achieved an overall accuracy of just shy of 80% when evaluated on a validation set. This means that my model correctly predicts the survival status of passengers in the Titanic most times.\n",
    "Let's observe some notable metrics;\n",
    "- **Accuracy:** 78.77%. Although accuracy alone may not provide a complete picture of the model's effectiveness.\n",
    "\n",
    "- **Precision and Recall:** It's essential to consider precision, recall, and F1-score to assess the model's performance more comprehensively. In this context:\n",
    "  - For passengers who did not survive (0), the model achieved a precision of 0.80, meaning that 80% of the predictions for this class were correct. The recall for (0) was 0.85, indicating that the model correctly identified 85% of passengers who did not survive.\n",
    "  - For passengers who survived (1), the model achieved a precision of 0.76, indicating that 76% of the predictions for this class were correct. The recall for (1) was 0.70, meaning that the model correctly identified 70% of passengers who survived.\n",
    "\n",
    "I can say my model performed reasonably balanced for an almost baseline model without any model tuning."
   ]
  }
 ],
 "metadata": {
  "kernelspec": {
   "display_name": "Python 3 (ipykernel)",
   "language": "python",
   "name": "python3"
  },
  "language_info": {
   "codemirror_mode": {
    "name": "ipython",
    "version": 3
   },
   "file_extension": ".py",
   "mimetype": "text/x-python",
   "name": "python",
   "nbconvert_exporter": "python",
   "pygments_lexer": "ipython3",
   "version": "3.11.4"
  }
 },
 "nbformat": 4,
 "nbformat_minor": 5
}
